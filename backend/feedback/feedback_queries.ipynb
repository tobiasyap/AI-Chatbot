{
 "cells": [
  {
   "cell_type": "code",
   "execution_count": 23,
   "id": "8df32759",
   "metadata": {},
   "outputs": [
    {
     "data": {
      "text/html": [
       "<div>\n",
       "<style scoped>\n",
       "    .dataframe tbody tr th:only-of-type {\n",
       "        vertical-align: middle;\n",
       "    }\n",
       "\n",
       "    .dataframe tbody tr th {\n",
       "        vertical-align: top;\n",
       "    }\n",
       "\n",
       "    .dataframe thead th {\n",
       "        text-align: right;\n",
       "    }\n",
       "</style>\n",
       "<table border=\"1\" class=\"dataframe\">\n",
       "  <thead>\n",
       "    <tr style=\"text-align: right;\">\n",
       "      <th></th>\n",
       "      <th>_id</th>\n",
       "      <th>feedback</th>\n",
       "      <th>user_query</th>\n",
       "      <th>createdAt</th>\n",
       "    </tr>\n",
       "  </thead>\n",
       "  <tbody>\n",
       "    <tr>\n",
       "      <th>0</th>\n",
       "      <td>6184a54f860459c4054f3233</td>\n",
       "      <td>Was expecting a philosophical answer</td>\n",
       "      <td>What is life</td>\n",
       "      <td>2021-11-05 03:30:23.355</td>\n",
       "    </tr>\n",
       "    <tr>\n",
       "      <th>1</th>\n",
       "      <td>6184a5a3860459c4054f3237</td>\n",
       "      <td>wanted to find out what your name was</td>\n",
       "      <td>Hi my name jeff</td>\n",
       "      <td>2021-11-05 03:31:47.725</td>\n",
       "    </tr>\n",
       "    <tr>\n",
       "      <th>2</th>\n",
       "      <td>6184a795860459c4054f3239</td>\n",
       "      <td>wanted to find out what your name was</td>\n",
       "      <td>Hi my name jeff</td>\n",
       "      <td>2021-11-05 03:40:05.366</td>\n",
       "    </tr>\n",
       "    <tr>\n",
       "      <th>3</th>\n",
       "      <td>6184a795860459c4054f323b</td>\n",
       "      <td>wanted to find out what your name was</td>\n",
       "      <td>Hi my name jeff</td>\n",
       "      <td>2021-11-05 03:40:05.370</td>\n",
       "    </tr>\n",
       "    <tr>\n",
       "      <th>4</th>\n",
       "      <td>6184a795860459c4054f323d</td>\n",
       "      <td>wanted to find out what your name was</td>\n",
       "      <td>Hi my name jeff</td>\n",
       "      <td>2021-11-05 03:40:05.374</td>\n",
       "    </tr>\n",
       "  </tbody>\n",
       "</table>\n",
       "</div>"
      ],
      "text/plain": [
       "                        _id                               feedback  \\\n",
       "0  6184a54f860459c4054f3233   Was expecting a philosophical answer   \n",
       "1  6184a5a3860459c4054f3237  wanted to find out what your name was   \n",
       "2  6184a795860459c4054f3239  wanted to find out what your name was   \n",
       "3  6184a795860459c4054f323b  wanted to find out what your name was   \n",
       "4  6184a795860459c4054f323d  wanted to find out what your name was   \n",
       "\n",
       "        user_query               createdAt  \n",
       "0     What is life 2021-11-05 03:30:23.355  \n",
       "1  Hi my name jeff 2021-11-05 03:31:47.725  \n",
       "2  Hi my name jeff 2021-11-05 03:40:05.366  \n",
       "3  Hi my name jeff 2021-11-05 03:40:05.370  \n",
       "4  Hi my name jeff 2021-11-05 03:40:05.374  "
      ]
     },
     "execution_count": 23,
     "metadata": {},
     "output_type": "execute_result"
    }
   ],
   "source": [
    "# Requires the PyMongo package.\n",
    "# https://api.mongodb.com/python/current\n",
    "from pymongo import MongoClient\n",
    "import pandas as pd\n",
    "from datetime import date\n",
    "\n",
    "\n",
    "client = MongoClient('mongodb://localhost:27017/test_db?readPreference=primary&appname=MongoDB%20Compass&directConnection=true&ssl=false')\n",
    "filter={\n",
    "    'boolean': 'Yes'\n",
    "}\n",
    "project={\n",
    "    'user_query': 1,\n",
    "    'feedback': 1,   \n",
    "    'createdAt': 1\n",
    "}\n",
    "\n",
    "result = client['test_db']['feedbacks'].find(\n",
    "  filter=filter,\n",
    "  projection=project\n",
    ")\n",
    "df = pd.DataFrame(list(result))\n",
    "today = date.today()\n",
    "dn_date = today.strftime(\"%b_%d_%Y\")\n",
    "df.to_csv(\"feedback_data_{}.csv\".format(dn_date))"
   ]
  },
  {
   "cell_type": "code",
   "execution_count": 34,
   "id": "5dc64ee0",
   "metadata": {},
   "outputs": [
    {
     "data": {
      "text/plain": [
       "str"
      ]
     },
     "execution_count": 34,
     "metadata": {},
     "output_type": "execute_result"
    }
   ],
   "source": [
    "type(str(21321))"
   ]
  },
  {
   "cell_type": "code",
   "execution_count": 41,
   "id": "4bafae36",
   "metadata": {},
   "outputs": [
    {
     "name": "stdout",
     "output_type": "stream",
     "text": [
      "Type in the document number you want to delete (eg: RSE/SD/FS/02/520)123\n",
      "File 123 Not found in Database\n"
     ]
    }
   ],
   "source": [
    "# Requires the PyMongo package.\n",
    "# https://api.mongodb.com/python/current\n",
    "# remove data from mongo db\n",
    "from pymongo import MongoClient\n",
    "\n",
    "doc_no = input(\"Type in the document number you want to delete (eg: RSE/SD/FS/02/520)\")\n",
    "if type(doc_no) != str:\n",
    "    doc_no = str(doc_no)\n",
    "client = MongoClient('mongodb://localhost:27017/test_db?readPreference=primary&appname=MongoDB%20Compass&directConnection=true&ssl=false')\n",
    "myquery = { \"doc_no\": doc_no }\n",
    "tempcollection = client['test_db']['filesystems']\n",
    "if tempcollection.count_documents(myquery, limit=1) > 0:\n",
    "    tempcollection.delete_one(myquery)\n",
    "    print(\"File {} Deleted from Database\".format(doc_no))\n",
    "else:\n",
    "    print(\"File {} Not found in Database\".format(doc_no))"
   ]
  },
  {
   "cell_type": "code",
   "execution_count": null,
   "id": "7db011e4",
   "metadata": {},
   "outputs": [],
   "source": []
  }
 ],
 "metadata": {
  "kernelspec": {
   "display_name": "Python 3",
   "language": "python",
   "name": "python3"
  },
  "language_info": {
   "codemirror_mode": {
    "name": "ipython",
    "version": 3
   },
   "file_extension": ".py",
   "mimetype": "text/x-python",
   "name": "python",
   "nbconvert_exporter": "python",
   "pygments_lexer": "ipython3",
   "version": "3.8.8"
  }
 },
 "nbformat": 4,
 "nbformat_minor": 5
}
